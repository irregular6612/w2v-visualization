{
 "cells": [
  {
   "cell_type": "code",
   "execution_count": 3,
   "metadata": {},
   "outputs": [],
   "source": [
    "import pandas as pd\n",
    "import numpy as np\n"
   ]
  },
  {
   "cell_type": "code",
   "execution_count": 18,
   "metadata": {},
   "outputs": [],
   "source": [
    "filePath = \"./Korean Dominance Norms.xlsx\"\n",
    "sheetNames = ['Sheet1', 'Sheet2', '중의어_자극']\n",
    "data = pd.read_excel(filePath, sheet_name=sheetNames[0])"
   ]
  },
  {
   "cell_type": "code",
   "execution_count": 29,
   "metadata": {},
   "outputs": [
    {
     "data": {
      "text/plain": [
       "274"
      ]
     },
     "execution_count": 29,
     "metadata": {},
     "output_type": "execute_result"
    }
   ],
   "source": [
    "# sheet1에 있는 동의어 종류가 총 274개.\n",
    "data['Word'].nunique()"
   ]
  },
  {
   "cell_type": "code",
   "execution_count": 32,
   "metadata": {},
   "outputs": [
    {
     "data": {
      "text/plain": [
       "Word\n",
       "양식    4\n",
       "적기    4\n",
       "수상    4\n",
       "경기    4\n",
       "선수    3\n",
       "인상    3\n",
       "정적    3\n",
       "시청    3\n",
       "녹음    3\n",
       "동시    3\n",
       "Name: count, dtype: int64"
      ]
     },
     "execution_count": 32,
     "metadata": {},
     "output_type": "execute_result"
    }
   ],
   "source": [
    "# 그 중 일부 단어를 추려서 시각화\n",
    "data['Word'].value_counts().sort_values(ascending=False).head(10)"
   ]
  },
  {
   "cell_type": "code",
   "execution_count": 36,
   "metadata": {},
   "outputs": [],
   "source": [
    "# 그 중 일부 단어를 추려서 시각화\n",
    "data['Word'].value_counts().sort_values(ascending=True).to_csv(\"./CountOfDoubleWord.xlsx\")"
   ]
  },
  {
   "cell_type": "code",
   "execution_count": null,
   "metadata": {},
   "outputs": [],
   "source": [
    "# 선별된 단어 후보들\n",
    "double_words = [\n",
    "    {\n",
    "        'keyword':['양식'],\n",
    "        'related1':['일식', '중식', '한식', '양식', '분식'],\n",
    "        'related2':['모양', '형식', '형태', '형상', '형태'],\n",
    "        'related3':['번식', '육성', '해조', '버섯'],\n",
    "        'related4':['조리', '요리', '조리법', '조리방법', '조리법','식사']\n",
    "    }\n",
    "]"
   ]
  }
 ],
 "metadata": {
  "kernelspec": {
   "display_name": "w2v",
   "language": "python",
   "name": "python3"
  },
  "language_info": {
   "codemirror_mode": {
    "name": "ipython",
    "version": 3
   },
   "file_extension": ".py",
   "mimetype": "text/x-python",
   "name": "python",
   "nbconvert_exporter": "python",
   "pygments_lexer": "ipython3",
   "version": "3.12.6"
  }
 },
 "nbformat": 4,
 "nbformat_minor": 2
}
